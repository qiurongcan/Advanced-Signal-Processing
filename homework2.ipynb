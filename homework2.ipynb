{
 "cells": [
  {
   "cell_type": "code",
   "execution_count": 1,
   "metadata": {},
   "outputs": [],
   "source": [
    "import glob\n",
    "from scipy.io import loadmat\n",
    "from numpy import asarray\n",
    "import matplotlib.pyplot as plt\n",
    "import numpy as np\n",
    "from scipy import signal\n",
    "import scipy\n",
    "import re\n",
    "import os\n",
    "import pandas as pd\n",
    "import pywt\n",
    "from scipy.fftpack import fft\n",
    "from warnings import warn\n",
    "from sklearn import metrics\n",
    "\n",
    "import warnings \n",
    "warnings.filterwarnings('ignore')"
   ]
  },
  {
   "cell_type": "code",
   "execution_count": 2,
   "metadata": {},
   "outputs": [],
   "source": [
    "# 对数据进行傅里叶变换\n",
    "def apply_fft(x, fs, num_samples):\n",
    "    f = np.linspace(0.0, (fs/2.0), num_samples//2)\n",
    "    freq_values = fft(x)\n",
    "    freq_values = 2.0/num_samples * np.abs(freq_values[0:num_samples//2])\n",
    "    return f, freq_values\n"
   ]
  },
  {
   "cell_type": "code",
   "execution_count": 3,
   "metadata": {},
   "outputs": [],
   "source": [
    "# 制作数据集及其特征标签\n",
    "def make_dataset(data_src, num_samples, class_):\n",
    "    files = glob.glob(data_src)\n",
    "    files = np.sort(files)\n",
    "    data = loadmat(files[0])\n",
    "    keysList = sorted(data.keys())\n",
    "    key = keysList[0]\n",
    "    drive_end_data = data[key]\n",
    "    drive_end_data = drive_end_data.reshape(-1)\n",
    "    num_segments = np.floor(len(drive_end_data)/num_samples)\n",
    "    slices = np.split(drive_end_data[0:int(num_segments*num_samples)], num_samples)\n",
    "    silces = np.array(slices).reshape(int(num_segments), num_samples)\n",
    "    # 初始化为第一个文件的分割数据\n",
    "    segmented_data = silces\n",
    "    # 处理剩余文件\n",
    "    files = files[1:]\n",
    "    for file in files:\n",
    "        data = loadmat(file)\n",
    "        keysList = sorted(data.keys())\n",
    "        key = keysList[0]\n",
    "        drive_end_data = data[key]\n",
    "        drive_end_data = drive_end_data.reshape(-1)\n",
    "        num_segments = np.floor(len(drive_end_data)/num_samples)\n",
    "        # 等间隔取样\n",
    "        slices = np.split(drive_end_data[0:int(num_segments*num_samples)], num_samples)\n",
    "        # 并将结果重塑，重塑为nxnum_sample的矩阵\n",
    "        silces = np.array(slices).reshape(int(num_segments), num_samples)\n",
    "        segmented_data = np.concatenate( (segmented_data, silces) , axis=0, out=None)\n",
    "    # 删除重复项\n",
    "    segmented_data = np.unique(segmented_data, axis= 0) \n",
    "    #打乱数据\n",
    "    np.random.shuffle( segmented_data) \n",
    "    # 创建类别标签\n",
    "    Class_ = np.ones(len(segmented_data))*class_\n",
    "    # 返回打乱的数据集和标签\n",
    "    return segmented_data, Class_"
   ]
  },
  {
   "cell_type": "code",
   "execution_count": 4,
   "metadata": {},
   "outputs": [],
   "source": [
    "#Healthy\n",
    "#IR\n",
    "#OR\n",
    "#BF\n",
    "#CompF\n",
    "#*IR = Inner Race fault\n",
    "#*OR = Outer Race faults\n",
    "#*BF = Ball faults\n",
    "#*CompF = Combination of faults\n",
    " \n",
    "# 加载数据集，一个样本分成50个数据集，一共是12 x 50 = 600 \n",
    " \n",
    "num_samples = 40000 # 输入长度\n",
    "fs = 200000; # 采样频率\n",
    "data_path = (r\"D:\\WorkSpace\\研一\\现代信号处理\\wotaihua_data\") \n",
    " \n",
    "cls_1 = '1-a healthy bearing/*'\n",
    "cls_2 = '2-a bearing with inner race fault/*'\n",
    "cls_3 = '3-a bearing with outer race fault/*'\n",
    "cls_4 = '4-a bearing with ball fault/*'\n",
    "cls_5 = '5-a bearing with a combination of faults/*'"
   ]
  },
  {
   "cell_type": "code",
   "execution_count": 5,
   "metadata": {},
   "outputs": [],
   "source": [
    "norm, y_norm   = make_dataset(os.path.join(data_path, cls_1), num_samples, 0)\n",
    "defc1, y_defc1 = make_dataset(os.path.join(data_path, cls_2), num_samples, 1)\n",
    "defc2, y_defc2 = make_dataset(os.path.join(data_path, cls_3), num_samples, 2)\n",
    "defc3, y_defc3 = make_dataset(os.path.join(data_path, cls_4), num_samples, 3)\n",
    "defc4, y_defc4 = make_dataset(os.path.join(data_path, cls_5), num_samples, 4)\n",
    "# 分别加载X，y，并沿着轴的方向连接\n",
    "X = np.concatenate( (norm, defc1, defc2, defc3, defc4) , axis=0, out=None)\n",
    "Y = np.concatenate( (y_norm, y_defc1, y_defc2, y_defc3, y_defc4), axis=0, out=None)"
   ]
  },
  {
   "cell_type": "code",
   "execution_count": 26,
   "metadata": {},
   "outputs": [
    {
     "data": {
      "image/png": "[encoded data removed]",
      "text/plain": [
       "<Figure size 640x480 with 1 Axes>"
      ]
     },
     "metadata": {},
     "output_type": "display_data"
    }
   ],
   "source": [
    "# 进行小波包分解和特征提取\n",
    "wavelet_function = \"db4\" #db4小波\n",
    "num_levels = 7 # 分解层数\n",
    "m = 5  #m个最高幅度及其对应的频率\n",
    " \n",
    "#小波包分解和特征提取，特征的数目2**7个 128个特征\n",
    "num_features = 2**num_levels\n",
    "# 存储特征的数组，创建一个 600x5行，5x128列的特征集合\n",
    "features = np.repeat(np.nan, len(X)*m*num_features).reshape(len(X),m*num_features)\n",
    "# 对单独一个样本进行小波分解，并遍历每一个样本\n",
    "for i in range(len(X)):    \n",
    "    wp = pywt.WaveletPacket(X[i], wavelet = wavelet_function, maxlevel = num_levels) # 小波包分解\n",
    "    # 获取小波包分解后每个子频带的路径名->list 7\n",
    "    # rewp=wp.reconstruct(update=False)\n",
    "    # f, c = apply_fft(rewp, fs, len(rewp))\n",
    "    # z = abs(c)\n",
    "    # plt.plot(f,z)\n",
    "    # plt.savefig(r'复合.png',dpi=180)\n",
    "    # plt.show()\n",
    "    packet_names = [node.path for node in wp.get_level(num_levels, \"natural\")]\n",
    "    # 遍历每个子频带\n",
    "    for j in range(num_features):\n",
    "        # 创建一个新的小波子频带对象，并赋值\n",
    "        new_wp = pywt.WaveletPacket(data = None, wavelet = wavelet_function, maxlevel = num_levels)\n",
    "        new_wp[packet_names[j]] = wp[packet_names[j]].data\n",
    "        #从小波包系数重建信号，并进行傅里叶变换，返回频谱频率和频谱幅度\n",
    "        reconstructed_signal = new_wp.reconstruct(update = False) #从小波包系数重建信号\n",
    "        f, c = apply_fft(reconstructed_signal, fs, len(reconstructed_signal))\n",
    "        z = abs(c)\n",
    "        # plt.plot(f,z)\n",
    "        # plt.show()\n",
    "        #求频谱的m个最高幅度及其对应的频率 -m表示从末尾往前数m个元素\n",
    "        maximal_idx = np.argpartition(z, -m)[-m:]\n",
    "        # 找到最大的幅值--list\n",
    "        high_amp = z[maximal_idx]\n",
    "        # 找到对应的频率--list\n",
    "        high_freq = f[maximal_idx]\n",
    "        feature = high_amp*high_freq #length=5\n",
    "        \n",
    "        l = 0\n",
    "        for f in feature:\n",
    "            features[i,j*m+l] = f\n",
    "            l = l+1\n",
    "    #     break\n",
    "    # break\n",
    "\n",
    "        \n",
    "        \n",
    "\n",
    "    \n"
   ]
  },
  {
   "cell_type": "code",
   "execution_count": 13,
   "metadata": {},
   "outputs": [],
   "source": [
    "from sklearn.model_selection import train_test_split\n",
    "from sklearn.preprocessing import StandardScaler\n",
    "import seaborn as sns\n",
    "from sklearn.ensemble import RandomForestClassifier\n",
    "from sklearn.metrics import roc_curve\n",
    "from sklearn.metrics import roc_auc_score\n",
    "from sklearn.metrics import accuracy_score, confusion_matrix,precision_score, recall_score, f1_score, classification_report"
   ]
  },
  {
   "cell_type": "code",
   "execution_count": 14,
   "metadata": {},
   "outputs": [],
   "source": [
    "labels = pd.Categorical(Y)\n"
   ]
  },
  {
   "cell_type": "code",
   "execution_count": 15,
   "metadata": {},
   "outputs": [],
   "source": [
    "X_train, X_test, y_train, y_test = train_test_split(features, labels, test_size = 0.2, \n",
    "                                                    shuffle = True, stratify = labels)#random_state = 42"
   ]
  },
  {
   "cell_type": "code",
   "execution_count": 16,
   "metadata": {},
   "outputs": [],
   "source": [
    "scaler = StandardScaler()\n",
    "train_data_scaled = scaler.fit_transform(X_train)\n",
    "test_data_scaled = scaler.transform(X_test)\n"
   ]
  },
  {
   "cell_type": "code",
   "execution_count": 17,
   "metadata": {},
   "outputs": [
    {
     "data": {
      "text/html": [
       "<style>#sk-container-id-1 {color: black;}#sk-container-id-1 pre{padding: 0;}#sk-container-id-1 div.sk-toggleable {background-color: white;}#sk-container-id-1 label.sk-toggleable__label {cursor: pointer;display: block;width: 100%;margin-bottom: 0;padding: 0.3em;box-sizing: border-box;text-align: center;}#sk-container-id-1 label.sk-toggleable__label-arrow:before {content: \"▸\";float: left;margin-right: 0.25em;color: #696969;}#sk-container-id-1 label.sk-toggleable__label-arrow:hover:before {color: black;}#sk-container-id-1 div.sk-estimator:hover label.sk-toggleable__label-arrow:before {color: black;}#sk-container-id-1 div.sk-toggleable__content {max-height: 0;max-width: 0;overflow: hidden;text-align: left;background-color: #f0f8ff;}#sk-container-id-1 div.sk-toggleable__content pre {margin: 0.2em;color: black;border-radius: 0.25em;background-color: #f0f8ff;}#sk-container-id-1 input.sk-toggleable__control:checked~div.sk-toggleable__content {max-height: 200px;max-width: 100%;overflow: auto;}#sk-container-id-1 input.sk-toggleable__control:checked~label.sk-toggleable__label-arrow:before {content: \"▾\";}#sk-container-id-1 div.sk-estimator input.sk-toggleable__control:checked~label.sk-toggleable__label {background-color: #d4ebff;}#sk-container-id-1 div.sk-label input.sk-toggleable__control:checked~label.sk-toggleable__label {background-color: #d4ebff;}#sk-container-id-1 input.sk-hidden--visually {border: 0;clip: rect(1px 1px 1px 1px);clip: rect(1px, 1px, 1px, 1px);height: 1px;margin: -1px;overflow: hidden;padding: 0;position: absolute;width: 1px;}#sk-container-id-1 div.sk-estimator {font-family: monospace;background-color: #f0f8ff;border: 1px dotted black;border-radius: 0.25em;box-sizing: border-box;margin-bottom: 0.5em;}#sk-container-id-1 div.sk-estimator:hover {background-color: #d4ebff;}#sk-container-id-1 div.sk-parallel-item::after {content: \"\";width: 100%;border-bottom: 1px solid gray;flex-grow: 1;}#sk-container-id-1 div.sk-label:hover label.sk-toggleable__label {background-color: #d4ebff;}#sk-container-id-1 div.sk-serial::before {content: \"\";position: absolute;border-left: 1px solid gray;box-sizing: border-box;top: 0;bottom: 0;left: 50%;z-index: 0;}#sk-container-id-1 div.sk-serial {display: flex;flex-direction: column;align-items: center;background-color: white;padding-right: 0.2em;padding-left: 0.2em;position: relative;}#sk-container-id-1 div.sk-item {position: relative;z-index: 1;}#sk-container-id-1 div.sk-parallel {display: flex;align-items: stretch;justify-content: center;background-color: white;position: relative;}#sk-container-id-1 div.sk-item::before, #sk-container-id-1 div.sk-parallel-item::before {content: \"\";position: absolute;border-left: 1px solid gray;box-sizing: border-box;top: 0;bottom: 0;left: 50%;z-index: -1;}#sk-container-id-1 div.sk-parallel-item {display: flex;flex-direction: column;z-index: 1;position: relative;background-color: white;}#sk-container-id-1 div.sk-parallel-item:first-child::after {align-self: flex-end;width: 50%;}#sk-container-id-1 div.sk-parallel-item:last-child::after {align-self: flex-start;width: 50%;}#sk-container-id-1 div.sk-parallel-item:only-child::after {width: 0;}#sk-container-id-1 div.sk-dashed-wrapped {border: 1px dashed gray;margin: 0 0.4em 0.5em 0.4em;box-sizing: border-box;padding-bottom: 0.4em;background-color: white;}#sk-container-id-1 div.sk-label label {font-family: monospace;font-weight: bold;display: inline-block;line-height: 1.2em;}#sk-container-id-1 div.sk-label-container {text-align: center;}#sk-container-id-1 div.sk-container {/* jupyter's `normalize.less` sets `[hidden] { display: none; }` but bootstrap.min.css set `[hidden] { display: none !important; }` so we also need the `!important` here to be able to override the default hidden behavior on the sphinx rendered scikit-learn.org. See: https://github.com/scikit-learn/scikit-learn/issues/21755 */display: inline-block !important;position: relative;}#sk-container-id-1 div.sk-text-repr-fallback {display: none;}</style><div id=\"sk-container-id-1\" class=\"sk-top-container\"><div class=\"sk-text-repr-fallback\"><pre>RandomForestClassifier(criterion=&#x27;entropy&#x27;, max_depth=20, max_features=1,\n",
       "                       min_samples_split=3, n_estimators=200)</pre><b>In a Jupyter environment, please rerun this cell to show the HTML representation or trust the notebook. <br />On GitHub, the HTML representation is unable to render, please try loading this page with nbviewer.org.</b></div><div class=\"sk-container\" hidden><div class=\"sk-item\"><div class=\"sk-estimator sk-toggleable\"><input class=\"sk-toggleable__control sk-hidden--visually\" id=\"sk-estimator-id-1\" type=\"checkbox\" checked><label for=\"sk-estimator-id-1\" class=\"sk-toggleable__label sk-toggleable__label-arrow\">RandomForestClassifier</label><div class=\"sk-toggleable__content\"><pre>RandomForestClassifier(criterion=&#x27;entropy&#x27;, max_depth=20, max_features=1,\n",
       "                       min_samples_split=3, n_estimators=200)</pre></div></div></div></div></div>"
      ],
      "text/plain": [
       "RandomForestClassifier(criterion='entropy', max_depth=20, max_features=1,\n",
       "                       min_samples_split=3, n_estimators=200)"
      ]
     },
     "execution_count": 17,
     "metadata": {},
     "output_type": "execute_result"
    }
   ],
   "source": [
    "clf_RF = RandomForestClassifier(criterion='entropy', max_features = 1, min_samples_leaf=1, min_samples_split=3, \n",
    "                                max_depth=20, n_estimators=200)\n",
    "clf_RF.fit(train_data_scaled, y_train)\n"
   ]
  },
  {
   "cell_type": "code",
   "execution_count": 19,
   "metadata": {},
   "outputs": [
    {
     "name": "stdout",
     "output_type": "stream",
     "text": [
      "Confusion Matrix:\n",
      "[[120   0   0   0   0]\n",
      " [  0 115   0   1   4]\n",
      " [  0   0 120   0   0]\n",
      " [  0   0   0 120   0]\n",
      " [  0   0   0   0 120]]\n",
      "Accuracy: 0.9916666666666667\n",
      "Precision: 0.9918954945347908\n",
      "Recall: 0.9916666666666668\n",
      "F1 Score: 0.9916361168078014\n"
     ]
    },
    {
     "data": {
      "image/png": "[encoded data removed]",
      "text/plain": [
       "<Figure size 800x600 with 2 Axes>"
      ]
     },
     "metadata": {},
     "output_type": "display_data"
    }
   ],
   "source": [
    "y_pred = clf_RF.predict(test_data_scaled)\n",
    "\n",
    "# 生成混淆矩阵\n",
    "conf_matrix = confusion_matrix(y_test, y_pred)\n",
    "\n",
    "# 计算和显示精度、召回率、F1分数等\n",
    "accuracy = accuracy_score(y_test, y_pred)\n",
    "precision = precision_score(y_test, y_pred,average='macro')\n",
    "recall = recall_score(y_test, y_pred,average='macro')\n",
    "f1 = f1_score(y_test, y_pred,average='macro')\n",
    "\n",
    "print(\"Confusion Matrix:\")\n",
    "print(conf_matrix)\n",
    "print(\"Accuracy:\", accuracy)\n",
    "print(\"Precision:\", precision)\n",
    "print(\"Recall:\", recall)\n",
    "print(\"F1 Score:\", f1)\n",
    "\n",
    "# 可视化混淆矩阵\n",
    "plt.figure(figsize=(8, 6))\n",
    "sns.heatmap(conf_matrix, annot=True, fmt=\"d\", cmap=\"Blues\")\n",
    "plt.xlabel(\"Predicted\")\n",
    "plt.ylabel(\"True\")\n",
    "plt.title(\"Confusion Matrix\")\n",
    "plt.savefig('混淆矩阵.png',dpi=180)\n",
    "plt.show()\n"
   ]
  }
 ],
 "metadata": {
  "kernelspec": {
   "display_name": "base",
   "language": "python",
   "name": "python3"
  },
  "language_info": {
   "codemirror_mode": {
    "name": "ipython",
    "version": 3
   },
   "file_extension": ".py",
   "mimetype": "text/x-python",
   "name": "python",
   "nbconvert_exporter": "python",
   "pygments_lexer": "ipython3",
   "version": "3.11.4"
  }
 },
 "nbformat": 4,
 "nbformat_minor": 2
}
